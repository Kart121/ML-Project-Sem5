{
 "cells": [
  {
   "cell_type": "code",
   "execution_count": 122,
   "id": "30f4e9d8",
   "metadata": {},
   "outputs": [
    {
     "data": {
      "text/html": [
       "<div>\n",
       "<style scoped>\n",
       "    .dataframe tbody tr th:only-of-type {\n",
       "        vertical-align: middle;\n",
       "    }\n",
       "\n",
       "    .dataframe tbody tr th {\n",
       "        vertical-align: top;\n",
       "    }\n",
       "\n",
       "    .dataframe thead th {\n",
       "        text-align: right;\n",
       "    }\n",
       "</style>\n",
       "<table border=\"1\" class=\"dataframe\">\n",
       "  <thead>\n",
       "    <tr style=\"text-align: right;\">\n",
       "      <th></th>\n",
       "      <th>User_ID</th>\n",
       "      <th>Gender</th>\n",
       "      <th>Age</th>\n",
       "      <th>Height</th>\n",
       "      <th>Weight</th>\n",
       "      <th>Duration</th>\n",
       "      <th>Heart_Rate</th>\n",
       "      <th>Body_Temp</th>\n",
       "    </tr>\n",
       "  </thead>\n",
       "  <tbody>\n",
       "    <tr>\n",
       "      <th>0</th>\n",
       "      <td>14733363</td>\n",
       "      <td>male</td>\n",
       "      <td>68</td>\n",
       "      <td>190.0</td>\n",
       "      <td>94.0</td>\n",
       "      <td>29</td>\n",
       "      <td>105</td>\n",
       "      <td>40.8</td>\n",
       "    </tr>\n",
       "    <tr>\n",
       "      <th>1</th>\n",
       "      <td>14861698</td>\n",
       "      <td>female</td>\n",
       "      <td>20</td>\n",
       "      <td>166.0</td>\n",
       "      <td>60.0</td>\n",
       "      <td>14</td>\n",
       "      <td>94</td>\n",
       "      <td>40.3</td>\n",
       "    </tr>\n",
       "    <tr>\n",
       "      <th>2</th>\n",
       "      <td>11179863</td>\n",
       "      <td>male</td>\n",
       "      <td>69</td>\n",
       "      <td>179.0</td>\n",
       "      <td>79.0</td>\n",
       "      <td>5</td>\n",
       "      <td>88</td>\n",
       "      <td>38.7</td>\n",
       "    </tr>\n",
       "    <tr>\n",
       "      <th>3</th>\n",
       "      <td>16180408</td>\n",
       "      <td>female</td>\n",
       "      <td>34</td>\n",
       "      <td>179.0</td>\n",
       "      <td>71.0</td>\n",
       "      <td>13</td>\n",
       "      <td>100</td>\n",
       "      <td>40.5</td>\n",
       "    </tr>\n",
       "    <tr>\n",
       "      <th>4</th>\n",
       "      <td>17771927</td>\n",
       "      <td>female</td>\n",
       "      <td>27</td>\n",
       "      <td>154.0</td>\n",
       "      <td>58.0</td>\n",
       "      <td>10</td>\n",
       "      <td>81</td>\n",
       "      <td>39.8</td>\n",
       "    </tr>\n",
       "    <tr>\n",
       "      <th>...</th>\n",
       "      <td>...</td>\n",
       "      <td>...</td>\n",
       "      <td>...</td>\n",
       "      <td>...</td>\n",
       "      <td>...</td>\n",
       "      <td>...</td>\n",
       "      <td>...</td>\n",
       "      <td>...</td>\n",
       "    </tr>\n",
       "    <tr>\n",
       "      <th>14995</th>\n",
       "      <td>15644082</td>\n",
       "      <td>female</td>\n",
       "      <td>20</td>\n",
       "      <td>193.0</td>\n",
       "      <td>86.0</td>\n",
       "      <td>11</td>\n",
       "      <td>92</td>\n",
       "      <td>40.4</td>\n",
       "    </tr>\n",
       "    <tr>\n",
       "      <th>14996</th>\n",
       "      <td>17212577</td>\n",
       "      <td>female</td>\n",
       "      <td>27</td>\n",
       "      <td>165.0</td>\n",
       "      <td>65.0</td>\n",
       "      <td>6</td>\n",
       "      <td>85</td>\n",
       "      <td>39.2</td>\n",
       "    </tr>\n",
       "    <tr>\n",
       "      <th>14997</th>\n",
       "      <td>17271188</td>\n",
       "      <td>female</td>\n",
       "      <td>43</td>\n",
       "      <td>159.0</td>\n",
       "      <td>58.0</td>\n",
       "      <td>16</td>\n",
       "      <td>90</td>\n",
       "      <td>40.1</td>\n",
       "    </tr>\n",
       "    <tr>\n",
       "      <th>14998</th>\n",
       "      <td>18643037</td>\n",
       "      <td>male</td>\n",
       "      <td>78</td>\n",
       "      <td>193.0</td>\n",
       "      <td>97.0</td>\n",
       "      <td>2</td>\n",
       "      <td>84</td>\n",
       "      <td>38.3</td>\n",
       "    </tr>\n",
       "    <tr>\n",
       "      <th>14999</th>\n",
       "      <td>11751526</td>\n",
       "      <td>male</td>\n",
       "      <td>63</td>\n",
       "      <td>173.0</td>\n",
       "      <td>79.0</td>\n",
       "      <td>18</td>\n",
       "      <td>92</td>\n",
       "      <td>40.5</td>\n",
       "    </tr>\n",
       "  </tbody>\n",
       "</table>\n",
       "<p>15000 rows × 8 columns</p>\n",
       "</div>"
      ],
      "text/plain": [
       "        User_ID  Gender  Age  Height  Weight  Duration  Heart_Rate  Body_Temp\n",
       "0      14733363    male   68   190.0    94.0        29         105       40.8\n",
       "1      14861698  female   20   166.0    60.0        14          94       40.3\n",
       "2      11179863    male   69   179.0    79.0         5          88       38.7\n",
       "3      16180408  female   34   179.0    71.0        13         100       40.5\n",
       "4      17771927  female   27   154.0    58.0        10          81       39.8\n",
       "...         ...     ...  ...     ...     ...       ...         ...        ...\n",
       "14995  15644082  female   20   193.0    86.0        11          92       40.4\n",
       "14996  17212577  female   27   165.0    65.0         6          85       39.2\n",
       "14997  17271188  female   43   159.0    58.0        16          90       40.1\n",
       "14998  18643037    male   78   193.0    97.0         2          84       38.3\n",
       "14999  11751526    male   63   173.0    79.0        18          92       40.5\n",
       "\n",
       "[15000 rows x 8 columns]"
      ]
     },
     "execution_count": 122,
     "metadata": {},
     "output_type": "execute_result"
    }
   ],
   "source": [
    "import numpy as np\n",
    "import pandas as pd\n",
    "import matplotlib as plt\n",
    "import seaborn as sb\n",
    "import warnings\n",
    "warnings.filterwarnings('ignore')\n",
    "path1='Dataset/exercise.csv'\n",
    "exercise=pd.read_csv(path1)\n",
    "exercise"
   ]
  },
  {
   "cell_type": "code",
   "execution_count": 123,
   "id": "a5e3a5f5",
   "metadata": {},
   "outputs": [
    {
     "data": {
      "text/html": [
       "<div>\n",
       "<style scoped>\n",
       "    .dataframe tbody tr th:only-of-type {\n",
       "        vertical-align: middle;\n",
       "    }\n",
       "\n",
       "    .dataframe tbody tr th {\n",
       "        vertical-align: top;\n",
       "    }\n",
       "\n",
       "    .dataframe thead th {\n",
       "        text-align: right;\n",
       "    }\n",
       "</style>\n",
       "<table border=\"1\" class=\"dataframe\">\n",
       "  <thead>\n",
       "    <tr style=\"text-align: right;\">\n",
       "      <th></th>\n",
       "      <th>User_ID</th>\n",
       "      <th>Calories</th>\n",
       "    </tr>\n",
       "  </thead>\n",
       "  <tbody>\n",
       "    <tr>\n",
       "      <th>0</th>\n",
       "      <td>14733363</td>\n",
       "      <td>231.0</td>\n",
       "    </tr>\n",
       "    <tr>\n",
       "      <th>1</th>\n",
       "      <td>14861698</td>\n",
       "      <td>66.0</td>\n",
       "    </tr>\n",
       "    <tr>\n",
       "      <th>2</th>\n",
       "      <td>11179863</td>\n",
       "      <td>26.0</td>\n",
       "    </tr>\n",
       "    <tr>\n",
       "      <th>3</th>\n",
       "      <td>16180408</td>\n",
       "      <td>71.0</td>\n",
       "    </tr>\n",
       "    <tr>\n",
       "      <th>4</th>\n",
       "      <td>17771927</td>\n",
       "      <td>35.0</td>\n",
       "    </tr>\n",
       "    <tr>\n",
       "      <th>...</th>\n",
       "      <td>...</td>\n",
       "      <td>...</td>\n",
       "    </tr>\n",
       "    <tr>\n",
       "      <th>14995</th>\n",
       "      <td>15644082</td>\n",
       "      <td>45.0</td>\n",
       "    </tr>\n",
       "    <tr>\n",
       "      <th>14996</th>\n",
       "      <td>17212577</td>\n",
       "      <td>23.0</td>\n",
       "    </tr>\n",
       "    <tr>\n",
       "      <th>14997</th>\n",
       "      <td>17271188</td>\n",
       "      <td>75.0</td>\n",
       "    </tr>\n",
       "    <tr>\n",
       "      <th>14998</th>\n",
       "      <td>18643037</td>\n",
       "      <td>11.0</td>\n",
       "    </tr>\n",
       "    <tr>\n",
       "      <th>14999</th>\n",
       "      <td>11751526</td>\n",
       "      <td>98.0</td>\n",
       "    </tr>\n",
       "  </tbody>\n",
       "</table>\n",
       "<p>15000 rows × 2 columns</p>\n",
       "</div>"
      ],
      "text/plain": [
       "        User_ID  Calories\n",
       "0      14733363     231.0\n",
       "1      14861698      66.0\n",
       "2      11179863      26.0\n",
       "3      16180408      71.0\n",
       "4      17771927      35.0\n",
       "...         ...       ...\n",
       "14995  15644082      45.0\n",
       "14996  17212577      23.0\n",
       "14997  17271188      75.0\n",
       "14998  18643037      11.0\n",
       "14999  11751526      98.0\n",
       "\n",
       "[15000 rows x 2 columns]"
      ]
     },
     "execution_count": 123,
     "metadata": {},
     "output_type": "execute_result"
    }
   ],
   "source": [
    "path2='Dataset/calories.csv'\n",
    "calories=pd.read_csv(path2)\n",
    "calories"
   ]
  },
  {
   "cell_type": "markdown",
   "id": "af86822a-9c42-476f-862d-9871b6f6ae60",
   "metadata": {},
   "source": [
    "<font size=\"5\">Data Preprocessing</font>"
   ]
  },
  {
   "cell_type": "markdown",
   "id": "343f62f3-cd7f-4e10-82a4-88cb7b672891",
   "metadata": {},
   "source": [
    "checking is null values exists or not"
   ]
  },
  {
   "cell_type": "code",
   "execution_count": 124,
   "id": "b4c2c66d-25a9-48da-a5e0-776803723ba6",
   "metadata": {},
   "outputs": [
    {
     "data": {
      "text/plain": [
       "User_ID        0\n",
       "Gender         0\n",
       "Age            0\n",
       "Height         4\n",
       "Weight        17\n",
       "Duration       0\n",
       "Heart_Rate     0\n",
       "Body_Temp      0\n",
       "dtype: int64"
      ]
     },
     "execution_count": 124,
     "metadata": {},
     "output_type": "execute_result"
    }
   ],
   "source": [
    "exercise.isnull().sum()"
   ]
  },
  {
   "cell_type": "markdown",
   "id": "90e220df-6a12-41c0-a381-72732c8f08a0",
   "metadata": {},
   "source": [
    "\n",
    "<font size=2>from this it is understood that the attributes that have null values are Height , Weight , Duration respectively</font>\n"
   ]
  },
  {
   "cell_type": "markdown",
   "id": "5bd54112-6bd0-4830-871e-c0f1ba7e88db",
   "metadata": {},
   "source": [
    "<font size=\"5\">Filling Missing values for weight using averaging in an age interval</font>"
   ]
  },
  {
   "cell_type": "code",
   "execution_count": 125,
   "id": "3c4f8cd9-4ff3-4754-a1e2-ac6cda294d03",
   "metadata": {},
   "outputs": [
    {
     "name": "stdout",
     "output_type": "stream",
     "text": [
      "Before : \n",
      "         User_ID  Gender  Age  Height  Weight  Duration  Heart_Rate  Body_Temp\n",
      "114   13616455    male   21   189.0     0.0        27         114       41.0\n",
      "123   18789619  female   35   182.0     0.0         2          83       38.4\n",
      "162   19572798  female   38   169.0     0.0        14          94       40.1\n",
      "200   12847212  female   30   168.0     0.0         6          76       39.4\n",
      "269   13135068  female   69   156.0     0.0         8          83       39.4\n",
      "797   16156697  female   43   173.0     0.0        30          79       38.2\n",
      "802   19354925    male   33   181.0     0.0         4          89       38.6\n",
      "808   16908484  female   46   168.0     0.0         2          85       37.7\n",
      "872   19928569  female   39   159.0     0.0        15          93       40.0\n",
      "878   19906933    male   53   179.0     0.0        14          93       40.0\n",
      "942   16583091  female   28   163.0     0.0        27          99       41.1\n",
      "1013  15330323    male   58   191.0     0.0        16          94       40.2\n",
      "1154  12142970  female   38   169.0     0.0         3          85       38.5\n",
      "1224  17492547  female   24   171.0     0.0        17          95       40.9\n",
      "1277  18557816    male   32   182.0     0.0        20          98       40.7\n",
      "1340  17755264    male   25   181.0     0.0        12          93       39.8\n",
      "1397  18376618  female   37   172.0     0.0        17         108       40.3\n",
      "\n",
      "After:\n",
      "        User_ID  Gender  Age  Height     Weight  Duration  Heart_Rate  \\\n",
      "114   13616455    male   21   189.0  73.181027        27         114   \n",
      "123   18789619  female   35   182.0  74.458074         2          83   \n",
      "162   19572798  female   38   169.0  74.458074        14          94   \n",
      "200   12847212  female   30   168.0  74.458074         6          76   \n",
      "269   13135068  female   69   156.0  76.178569         8          83   \n",
      "797   16156697  female   43   173.0  75.407039        30          79   \n",
      "802   19354925    male   33   181.0  74.466627         4          89   \n",
      "808   16908484  female   46   168.0  75.407039         2          85   \n",
      "872   19928569  female   39   159.0  74.472098        15          93   \n",
      "878   19906933    male   53   179.0  75.672227        14          93   \n",
      "942   16583091  female   28   163.0  73.193189        27          99   \n",
      "1013  15330323    male   58   191.0  75.672227        16          94   \n",
      "1154  12142970  female   38   169.0  74.471267         3          85   \n",
      "1224  17492547  female   24   171.0  73.197364        17          95   \n",
      "1277  18557816    male   32   182.0  74.476955        20          98   \n",
      "1340  17755264    male   25   181.0  73.197364        12          93   \n",
      "1397  18376618  female   37   172.0  74.480272        17         108   \n",
      "\n",
      "      Body_Temp  \n",
      "114        41.0  \n",
      "123        38.4  \n",
      "162        40.1  \n",
      "200        39.4  \n",
      "269        39.4  \n",
      "797        38.2  \n",
      "802        38.6  \n",
      "808        37.7  \n",
      "872        40.0  \n",
      "878        40.0  \n",
      "942        41.1  \n",
      "1013       40.2  \n",
      "1154       38.5  \n",
      "1224       40.9  \n",
      "1277       40.7  \n",
      "1340       39.8  \n",
      "1397       40.3  \n"
     ]
    }
   ],
   "source": [
    "import statistics\n",
    "NullWeight = exercise[exercise[\"Weight\"].isnull()].replace(np.nan , 0) # storing the data for null weights and setting the nan values as zero \n",
    "print(\"Before : \\n \",NullWeight) # shows the result\n",
    "exercise[\"Weight\"] = exercise[\"Weight\"].replace(np.nan , 0)  # storing the data for null weights and setting the nan values as zero \n",
    "i = 0\n",
    "for age in NullWeight['Age']: # accessing each age \n",
    "    age = age // 10 # setting up the range for age\n",
    "    age = age * 10\n",
    "    ageRange = exercise[(exercise[\"Age\"] >= age) & (exercise[\"Age\"] <= age + 10)]  # collecting age interval for a given age\n",
    "    ageRangeAverage = np.nanmean(ageRange[\"Weight\"]) # calculating the mean of the particular interval\n",
    "    exercise[\"Weight\"].iloc[i] = ageRangeAverage # updating the mean inplace for the missing values in the main dataset\n",
    "    NullWeight[\"Weight\"].iloc[i] = ageRangeAverage\n",
    "    i += 1\n",
    "print(\"\\nAfter:\\n\",NullWeight) # displaying the updated result for the range of null dataset"
   ]
  },
  {
   "cell_type": "markdown",
   "id": "8a69cd07-268f-46b4-9d05-6556ad9c5e33",
   "metadata": {},
   "source": [
    "<font size=\"5\">Filling Missing values for Height and Weight  using averaging in an age interval</font>"
   ]
  },
  {
   "cell_type": "code",
   "execution_count": 126,
   "id": "07dee9c1-8367-4a4c-8f5e-79994e3dd203",
   "metadata": {},
   "outputs": [
    {
     "name": "stdout",
     "output_type": "stream",
     "text": [
      "\n",
      "After:\n",
      "        User_ID  Gender  Age      Height     Weight  Duration  Heart_Rate  \\\n",
      "114   13616455    male   21  174.562739  73.181027        27         114   \n",
      "123   18789619  female   35  174.173175  74.458074         2          83   \n",
      "162   19572798  female   38  174.562739  74.458074        14          94   \n",
      "200   12847212  female   30  174.423704  74.458074         6          76   \n",
      "269   13135068  female   69  156.000000  76.178569         8          83   \n",
      "797   16156697  female   43  173.000000  75.407039        30          79   \n",
      "802   19354925    male   33  181.000000  74.466627         4          89   \n",
      "808   16908484  female   46  168.000000  75.407039         2          85   \n",
      "872   19928569  female   39  159.000000  74.472098        15          93   \n",
      "878   19906933    male   53  179.000000  75.672227        14          93   \n",
      "942   16583091  female   28  163.000000  73.193189        27          99   \n",
      "1013  15330323    male   58  191.000000  75.672227        16          94   \n",
      "1154  12142970  female   38  169.000000  74.471267         3          85   \n",
      "1224  17492547  female   24  171.000000  73.197364        17          95   \n",
      "1277  18557816    male   32  182.000000  74.476955        20          98   \n",
      "1340  17755264    male   25  181.000000  73.197364        12          93   \n",
      "1397  18376618  female   37  172.000000  74.480272        17         108   \n",
      "\n",
      "      Body_Temp  \n",
      "114        41.0  \n",
      "123        38.4  \n",
      "162        40.1  \n",
      "200        39.4  \n",
      "269        39.4  \n",
      "797        38.2  \n",
      "802        38.6  \n",
      "808        37.7  \n",
      "872        40.0  \n",
      "878        40.0  \n",
      "942        41.1  \n",
      "1013       40.2  \n",
      "1154       38.5  \n",
      "1224       40.9  \n",
      "1277       40.7  \n",
      "1340       39.8  \n",
      "1397       40.3  \n",
      "Empty DataFrame\n",
      "Columns: [User_ID, Gender, Age, Height, Weight, Duration, Heart_Rate, Body_Temp]\n",
      "Index: []\n",
      "Update Null Duration\n",
      "Empty DataFrame\n",
      "Columns: [User_ID, Gender, Age, Height, Weight, Duration, Heart_Rate, Body_Temp]\n",
      "Index: []\n"
     ]
    }
   ],
   "source": [
    "NullHeight = exercise[exercise[\"Height\"].isnull()].replace(np.nan , 0) # storing the data for null weights and setting the nan values as zero \n",
    "exercise[\"Height\"] = exercise[\"Height\"].replace(np.nan , 0)  # storing the data for null weights and setting the nan values as zero \n",
    "i = 0\n",
    "for age in NullHeight['Age']: # accessing each age \n",
    "    age = age // 10 # setting up the range for age\n",
    "    age = age * 10\n",
    "    ageRange = exercise[(exercise[\"Age\"] >= age) & (exercise[\"Age\"] <= age + 10)]  # collecting age interval for a given age\n",
    "    ageRangeAverage = np.nanmean(ageRange[\"Height\"]) # calculating the mean of the particular interval\n",
    "    exercise[\"Height\"].iloc[i] = ageRangeAverage # updating the mean inplace for the missing values in the main dataset\n",
    "    NullWeight[\"Height\"].iloc[i] = ageRangeAverage\n",
    "    i += 1\n",
    "print(\"\\nAfter:\\n\",NullWeight) # displaying the updated result for the range of null dataset\n",
    "\n",
    "NullDuration = exercise[exercise[\"Duration\"].isnull()].replace(np.nan , 0)\n",
    "print(NullDuration)\n",
    "print(\"Update Null Duration\")\n",
    "i = 0\n",
    "for age in NullDuration['Age']: # accessing each age \n",
    "    age = age // 10 # setting up the range for age\n",
    "    age = age * 10\n",
    "    ageRange = exercise[(exercise[\"Age\"] >= age) & (exercise[\"Age\"] <= age + 10)]  # collecting age interval for a given age\n",
    "    ageRangeAverage = np.nanmean(ageRange[\"Duration\"]) # calculating the mean of the particular interval\n",
    "    exercise[\"Duration\"].iloc[i] = ageRangeAverage # updating the mean inplace for the missing values in the main dataset\n",
    "    NullDuration[\"Duration\"].iloc[i] = ageRangeAverage\n",
    "    i += 1\n",
    "    \n",
    "i = 0\n",
    "for age in NullDuration['Age']: # accessing each age \n",
    "    age = age // 10 # setting up the range for age\n",
    "    age = age * 10\n",
    "    ageRange = exercise[(exercise[\"Age\"] >= age) & (exercise[\"Age\"] <= age + 10)]  # collecting age interval for a given age\n",
    "    ageRangeAverage = np.nanmean(ageRange[\"Duration\"]) # calculating the mean of the particular interval\n",
    "    exercise[\"Duration\"].iloc[i] = ageRangeAverage # updating the mean inplace for the missing values in the main dataset\n",
    "    NullDuration[\"Duration\"].iloc[i] = ageRangeAverage\n",
    "    i += 1\n",
    "\n",
    "NullDuration = exercise[exercise[\"Duration\"].isnull()].replace(np.nan , 0)  \n",
    "print(NullDuration)"
   ]
  },
  {
   "cell_type": "markdown",
   "id": "d91e8575-5cdd-4fe2-97d7-91ba42e7721a",
   "metadata": {},
   "source": [
    "<font size=\"5\">Normalization of data set</font>"
   ]
  },
  {
   "cell_type": "code",
   "execution_count": 127,
   "id": "afb66fc3-a611-4083-95cf-12631747e8f2",
   "metadata": {},
   "outputs": [
    {
     "name": "stdout",
     "output_type": "stream",
     "text": [
      "Before Normalization : \n",
      "\n"
     ]
    },
    {
     "data": {
      "text/html": [
       "<div>\n",
       "<style scoped>\n",
       "    .dataframe tbody tr th:only-of-type {\n",
       "        vertical-align: middle;\n",
       "    }\n",
       "\n",
       "    .dataframe tbody tr th {\n",
       "        vertical-align: top;\n",
       "    }\n",
       "\n",
       "    .dataframe thead th {\n",
       "        text-align: right;\n",
       "    }\n",
       "</style>\n",
       "<table border=\"1\" class=\"dataframe\">\n",
       "  <thead>\n",
       "    <tr style=\"text-align: right;\">\n",
       "      <th></th>\n",
       "      <th>User_ID</th>\n",
       "      <th>Gender</th>\n",
       "      <th>Age</th>\n",
       "      <th>Height</th>\n",
       "      <th>Weight</th>\n",
       "      <th>Duration</th>\n",
       "      <th>Heart_Rate</th>\n",
       "      <th>Body_Temp</th>\n",
       "    </tr>\n",
       "  </thead>\n",
       "  <tbody>\n",
       "    <tr>\n",
       "      <th>0</th>\n",
       "      <td>14733363</td>\n",
       "      <td>male</td>\n",
       "      <td>68</td>\n",
       "      <td>174.562739</td>\n",
       "      <td>73.181027</td>\n",
       "      <td>29</td>\n",
       "      <td>105</td>\n",
       "      <td>40.8</td>\n",
       "    </tr>\n",
       "    <tr>\n",
       "      <th>1</th>\n",
       "      <td>14861698</td>\n",
       "      <td>female</td>\n",
       "      <td>20</td>\n",
       "      <td>174.173175</td>\n",
       "      <td>74.458074</td>\n",
       "      <td>14</td>\n",
       "      <td>94</td>\n",
       "      <td>40.3</td>\n",
       "    </tr>\n",
       "    <tr>\n",
       "      <th>2</th>\n",
       "      <td>11179863</td>\n",
       "      <td>male</td>\n",
       "      <td>69</td>\n",
       "      <td>174.562739</td>\n",
       "      <td>74.458074</td>\n",
       "      <td>5</td>\n",
       "      <td>88</td>\n",
       "      <td>38.7</td>\n",
       "    </tr>\n",
       "    <tr>\n",
       "      <th>3</th>\n",
       "      <td>16180408</td>\n",
       "      <td>female</td>\n",
       "      <td>34</td>\n",
       "      <td>174.423704</td>\n",
       "      <td>74.458074</td>\n",
       "      <td>13</td>\n",
       "      <td>100</td>\n",
       "      <td>40.5</td>\n",
       "    </tr>\n",
       "    <tr>\n",
       "      <th>4</th>\n",
       "      <td>17771927</td>\n",
       "      <td>female</td>\n",
       "      <td>27</td>\n",
       "      <td>154.000000</td>\n",
       "      <td>76.178569</td>\n",
       "      <td>10</td>\n",
       "      <td>81</td>\n",
       "      <td>39.8</td>\n",
       "    </tr>\n",
       "  </tbody>\n",
       "</table>\n",
       "</div>"
      ],
      "text/plain": [
       "    User_ID  Gender  Age      Height     Weight  Duration  Heart_Rate  \\\n",
       "0  14733363    male   68  174.562739  73.181027        29         105   \n",
       "1  14861698  female   20  174.173175  74.458074        14          94   \n",
       "2  11179863    male   69  174.562739  74.458074         5          88   \n",
       "3  16180408  female   34  174.423704  74.458074        13         100   \n",
       "4  17771927  female   27  154.000000  76.178569        10          81   \n",
       "\n",
       "   Body_Temp  \n",
       "0       40.8  \n",
       "1       40.3  \n",
       "2       38.7  \n",
       "3       40.5  \n",
       "4       39.8  "
      ]
     },
     "execution_count": 127,
     "metadata": {},
     "output_type": "execute_result"
    }
   ],
   "source": [
    "from sklearn.preprocessing import MinMaxScaler\n",
    "print (\"Before Normalization : \\n\")\n",
    "exercise.head()"
   ]
  },
  {
   "cell_type": "code",
   "execution_count": 128,
   "id": "a897b407-ae2a-4da0-a380-8f00b2a210b6",
   "metadata": {},
   "outputs": [
    {
     "name": "stdout",
     "output_type": "stream",
     "text": [
      "After Normalisation : \n",
      "\n"
     ]
    },
    {
     "data": {
      "text/html": [
       "<div>\n",
       "<style scoped>\n",
       "    .dataframe tbody tr th:only-of-type {\n",
       "        vertical-align: middle;\n",
       "    }\n",
       "\n",
       "    .dataframe tbody tr th {\n",
       "        vertical-align: top;\n",
       "    }\n",
       "\n",
       "    .dataframe thead th {\n",
       "        text-align: right;\n",
       "    }\n",
       "</style>\n",
       "<table border=\"1\" class=\"dataframe\">\n",
       "  <thead>\n",
       "    <tr style=\"text-align: right;\">\n",
       "      <th></th>\n",
       "      <th>User_ID</th>\n",
       "      <th>Gender</th>\n",
       "      <th>Age</th>\n",
       "      <th>Height</th>\n",
       "      <th>Weight</th>\n",
       "      <th>Duration</th>\n",
       "      <th>Heart_Rate</th>\n",
       "      <th>Body_Temp</th>\n",
       "    </tr>\n",
       "  </thead>\n",
       "  <tbody>\n",
       "    <tr>\n",
       "      <th>0</th>\n",
       "      <td>14733363</td>\n",
       "      <td>male</td>\n",
       "      <td>68</td>\n",
       "      <td>174.562739</td>\n",
       "      <td>73.181027</td>\n",
       "      <td>0.965517</td>\n",
       "      <td>105</td>\n",
       "      <td>40.8</td>\n",
       "    </tr>\n",
       "    <tr>\n",
       "      <th>1</th>\n",
       "      <td>14861698</td>\n",
       "      <td>female</td>\n",
       "      <td>20</td>\n",
       "      <td>174.173175</td>\n",
       "      <td>74.458074</td>\n",
       "      <td>0.448276</td>\n",
       "      <td>94</td>\n",
       "      <td>40.3</td>\n",
       "    </tr>\n",
       "    <tr>\n",
       "      <th>2</th>\n",
       "      <td>11179863</td>\n",
       "      <td>male</td>\n",
       "      <td>69</td>\n",
       "      <td>174.562739</td>\n",
       "      <td>74.458074</td>\n",
       "      <td>0.137931</td>\n",
       "      <td>88</td>\n",
       "      <td>38.7</td>\n",
       "    </tr>\n",
       "    <tr>\n",
       "      <th>3</th>\n",
       "      <td>16180408</td>\n",
       "      <td>female</td>\n",
       "      <td>34</td>\n",
       "      <td>174.423704</td>\n",
       "      <td>74.458074</td>\n",
       "      <td>0.413793</td>\n",
       "      <td>100</td>\n",
       "      <td>40.5</td>\n",
       "    </tr>\n",
       "    <tr>\n",
       "      <th>4</th>\n",
       "      <td>17771927</td>\n",
       "      <td>female</td>\n",
       "      <td>27</td>\n",
       "      <td>154.000000</td>\n",
       "      <td>76.178569</td>\n",
       "      <td>0.310345</td>\n",
       "      <td>81</td>\n",
       "      <td>39.8</td>\n",
       "    </tr>\n",
       "  </tbody>\n",
       "</table>\n",
       "</div>"
      ],
      "text/plain": [
       "    User_ID  Gender  Age      Height     Weight  Duration  Heart_Rate  \\\n",
       "0  14733363    male   68  174.562739  73.181027  0.965517         105   \n",
       "1  14861698  female   20  174.173175  74.458074  0.448276          94   \n",
       "2  11179863    male   69  174.562739  74.458074  0.137931          88   \n",
       "3  16180408  female   34  174.423704  74.458074  0.413793         100   \n",
       "4  17771927  female   27  154.000000  76.178569  0.310345          81   \n",
       "\n",
       "   Body_Temp  \n",
       "0       40.8  \n",
       "1       40.3  \n",
       "2       38.7  \n",
       "3       40.5  \n",
       "4       39.8  "
      ]
     },
     "execution_count": 128,
     "metadata": {},
     "output_type": "execute_result"
    }
   ],
   "source": [
    "norm = MinMaxScaler()\n",
    "data = exercise\n",
    "data[\"Duration\"] = norm.fit_transform(data[\"Duration\"].values.reshape(-1,1))\n",
    "print (\"After Normalisation : \\n\")\n",
    "data.head()"
   ]
  },
  {
   "cell_type": "markdown",
   "id": "44ccd087-d68a-4f34-918d-ac47e1be6abc",
   "metadata": {},
   "source": [
    "<font size=\"5\">Standardization of data set</font>"
   ]
  },
  {
   "cell_type": "code",
   "execution_count": 129,
   "id": "d840ea72-ee18-4b61-825d-bacace15fa06",
   "metadata": {},
   "outputs": [
    {
     "name": "stdout",
     "output_type": "stream",
     "text": [
      "Before Standardisation : \n",
      "\n"
     ]
    },
    {
     "data": {
      "text/html": [
       "<div>\n",
       "<style scoped>\n",
       "    .dataframe tbody tr th:only-of-type {\n",
       "        vertical-align: middle;\n",
       "    }\n",
       "\n",
       "    .dataframe tbody tr th {\n",
       "        vertical-align: top;\n",
       "    }\n",
       "\n",
       "    .dataframe thead th {\n",
       "        text-align: right;\n",
       "    }\n",
       "</style>\n",
       "<table border=\"1\" class=\"dataframe\">\n",
       "  <thead>\n",
       "    <tr style=\"text-align: right;\">\n",
       "      <th></th>\n",
       "      <th>User_ID</th>\n",
       "      <th>Gender</th>\n",
       "      <th>Age</th>\n",
       "      <th>Height</th>\n",
       "      <th>Weight</th>\n",
       "      <th>Duration</th>\n",
       "      <th>Heart_Rate</th>\n",
       "      <th>Body_Temp</th>\n",
       "    </tr>\n",
       "  </thead>\n",
       "  <tbody>\n",
       "    <tr>\n",
       "      <th>14995</th>\n",
       "      <td>15644082</td>\n",
       "      <td>female</td>\n",
       "      <td>20</td>\n",
       "      <td>193.0</td>\n",
       "      <td>86.0</td>\n",
       "      <td>0.344828</td>\n",
       "      <td>92</td>\n",
       "      <td>40.4</td>\n",
       "    </tr>\n",
       "    <tr>\n",
       "      <th>14996</th>\n",
       "      <td>17212577</td>\n",
       "      <td>female</td>\n",
       "      <td>27</td>\n",
       "      <td>165.0</td>\n",
       "      <td>65.0</td>\n",
       "      <td>0.172414</td>\n",
       "      <td>85</td>\n",
       "      <td>39.2</td>\n",
       "    </tr>\n",
       "    <tr>\n",
       "      <th>14997</th>\n",
       "      <td>17271188</td>\n",
       "      <td>female</td>\n",
       "      <td>43</td>\n",
       "      <td>159.0</td>\n",
       "      <td>58.0</td>\n",
       "      <td>0.517241</td>\n",
       "      <td>90</td>\n",
       "      <td>40.1</td>\n",
       "    </tr>\n",
       "    <tr>\n",
       "      <th>14998</th>\n",
       "      <td>18643037</td>\n",
       "      <td>male</td>\n",
       "      <td>78</td>\n",
       "      <td>193.0</td>\n",
       "      <td>97.0</td>\n",
       "      <td>0.034483</td>\n",
       "      <td>84</td>\n",
       "      <td>38.3</td>\n",
       "    </tr>\n",
       "    <tr>\n",
       "      <th>14999</th>\n",
       "      <td>11751526</td>\n",
       "      <td>male</td>\n",
       "      <td>63</td>\n",
       "      <td>173.0</td>\n",
       "      <td>79.0</td>\n",
       "      <td>0.586207</td>\n",
       "      <td>92</td>\n",
       "      <td>40.5</td>\n",
       "    </tr>\n",
       "  </tbody>\n",
       "</table>\n",
       "</div>"
      ],
      "text/plain": [
       "        User_ID  Gender  Age  Height  Weight  Duration  Heart_Rate  Body_Temp\n",
       "14995  15644082  female   20   193.0    86.0  0.344828          92       40.4\n",
       "14996  17212577  female   27   165.0    65.0  0.172414          85       39.2\n",
       "14997  17271188  female   43   159.0    58.0  0.517241          90       40.1\n",
       "14998  18643037    male   78   193.0    97.0  0.034483          84       38.3\n",
       "14999  11751526    male   63   173.0    79.0  0.586207          92       40.5"
      ]
     },
     "execution_count": 129,
     "metadata": {},
     "output_type": "execute_result"
    }
   ],
   "source": [
    "from sklearn.preprocessing import StandardScaler \n",
    "print (\"Before Standardisation : \\n\")\n",
    "exercise.tail()"
   ]
  },
  {
   "cell_type": "code",
   "execution_count": 130,
   "id": "f417a77f-028a-4364-adb0-2914d51deca3",
   "metadata": {},
   "outputs": [
    {
     "name": "stdout",
     "output_type": "stream",
     "text": [
      "After Standardisation : \n",
      "\n"
     ]
    },
    {
     "data": {
      "text/html": [
       "<div>\n",
       "<style scoped>\n",
       "    .dataframe tbody tr th:only-of-type {\n",
       "        vertical-align: middle;\n",
       "    }\n",
       "\n",
       "    .dataframe tbody tr th {\n",
       "        vertical-align: top;\n",
       "    }\n",
       "\n",
       "    .dataframe thead th {\n",
       "        text-align: right;\n",
       "    }\n",
       "</style>\n",
       "<table border=\"1\" class=\"dataframe\">\n",
       "  <thead>\n",
       "    <tr style=\"text-align: right;\">\n",
       "      <th></th>\n",
       "      <th>User_ID</th>\n",
       "      <th>Gender</th>\n",
       "      <th>Age</th>\n",
       "      <th>Height</th>\n",
       "      <th>Weight</th>\n",
       "      <th>Duration</th>\n",
       "      <th>Heart_Rate</th>\n",
       "      <th>Body_Temp</th>\n",
       "    </tr>\n",
       "  </thead>\n",
       "  <tbody>\n",
       "    <tr>\n",
       "      <th>0</th>\n",
       "      <td>14733363</td>\n",
       "      <td>male</td>\n",
       "      <td>68</td>\n",
       "      <td>174.562739</td>\n",
       "      <td>73.181027</td>\n",
       "      <td>1.618588</td>\n",
       "      <td>105</td>\n",
       "      <td>40.8</td>\n",
       "    </tr>\n",
       "    <tr>\n",
       "      <th>1</th>\n",
       "      <td>14861698</td>\n",
       "      <td>female</td>\n",
       "      <td>20</td>\n",
       "      <td>174.173175</td>\n",
       "      <td>74.458074</td>\n",
       "      <td>-0.184393</td>\n",
       "      <td>94</td>\n",
       "      <td>40.3</td>\n",
       "    </tr>\n",
       "    <tr>\n",
       "      <th>2</th>\n",
       "      <td>11179863</td>\n",
       "      <td>male</td>\n",
       "      <td>69</td>\n",
       "      <td>174.562739</td>\n",
       "      <td>74.458074</td>\n",
       "      <td>-1.266182</td>\n",
       "      <td>88</td>\n",
       "      <td>38.7</td>\n",
       "    </tr>\n",
       "    <tr>\n",
       "      <th>3</th>\n",
       "      <td>16180408</td>\n",
       "      <td>female</td>\n",
       "      <td>34</td>\n",
       "      <td>174.423704</td>\n",
       "      <td>74.458074</td>\n",
       "      <td>-0.304592</td>\n",
       "      <td>100</td>\n",
       "      <td>40.5</td>\n",
       "    </tr>\n",
       "    <tr>\n",
       "      <th>4</th>\n",
       "      <td>17771927</td>\n",
       "      <td>female</td>\n",
       "      <td>27</td>\n",
       "      <td>154.000000</td>\n",
       "      <td>76.178569</td>\n",
       "      <td>-0.665188</td>\n",
       "      <td>81</td>\n",
       "      <td>39.8</td>\n",
       "    </tr>\n",
       "  </tbody>\n",
       "</table>\n",
       "</div>"
      ],
      "text/plain": [
       "    User_ID  Gender  Age      Height     Weight  Duration  Heart_Rate  \\\n",
       "0  14733363    male   68  174.562739  73.181027  1.618588         105   \n",
       "1  14861698  female   20  174.173175  74.458074 -0.184393          94   \n",
       "2  11179863    male   69  174.562739  74.458074 -1.266182          88   \n",
       "3  16180408  female   34  174.423704  74.458074 -0.304592         100   \n",
       "4  17771927  female   27  154.000000  76.178569 -0.665188          81   \n",
       "\n",
       "   Body_Temp  \n",
       "0       40.8  \n",
       "1       40.3  \n",
       "2       38.7  \n",
       "3       40.5  \n",
       "4       39.8  "
      ]
     },
     "execution_count": 130,
     "metadata": {},
     "output_type": "execute_result"
    }
   ],
   "source": [
    "scalar = StandardScaler(copy=True, with_mean=True, with_std=True)\n",
    "data = exercise\n",
    "data[\"Duration\"] = scalar.fit_transform(data[\"Duration\"].values.reshape(-1,1))\n",
    "print (\"After Standardisation : \\n\")\n",
    "data.head()"
   ]
  },
  {
   "cell_type": "code",
   "execution_count": 131,
   "id": "87366700",
   "metadata": {},
   "outputs": [
    {
     "data": {
      "text/html": [
       "<div>\n",
       "<style scoped>\n",
       "    .dataframe tbody tr th:only-of-type {\n",
       "        vertical-align: middle;\n",
       "    }\n",
       "\n",
       "    .dataframe tbody tr th {\n",
       "        vertical-align: top;\n",
       "    }\n",
       "\n",
       "    .dataframe thead th {\n",
       "        text-align: right;\n",
       "    }\n",
       "</style>\n",
       "<table border=\"1\" class=\"dataframe\">\n",
       "  <thead>\n",
       "    <tr style=\"text-align: right;\">\n",
       "      <th></th>\n",
       "      <th>User_ID</th>\n",
       "      <th>Gender</th>\n",
       "      <th>Age</th>\n",
       "      <th>Height</th>\n",
       "      <th>Weight</th>\n",
       "      <th>Duration</th>\n",
       "      <th>Heart_Rate</th>\n",
       "      <th>Body_Temp</th>\n",
       "      <th>Calories</th>\n",
       "    </tr>\n",
       "  </thead>\n",
       "  <tbody>\n",
       "    <tr>\n",
       "      <th>0</th>\n",
       "      <td>14733363</td>\n",
       "      <td>male</td>\n",
       "      <td>68</td>\n",
       "      <td>174.562739</td>\n",
       "      <td>73.181027</td>\n",
       "      <td>1.618588</td>\n",
       "      <td>105</td>\n",
       "      <td>40.8</td>\n",
       "      <td>231.0</td>\n",
       "    </tr>\n",
       "    <tr>\n",
       "      <th>1</th>\n",
       "      <td>14861698</td>\n",
       "      <td>female</td>\n",
       "      <td>20</td>\n",
       "      <td>174.173175</td>\n",
       "      <td>74.458074</td>\n",
       "      <td>-0.184393</td>\n",
       "      <td>94</td>\n",
       "      <td>40.3</td>\n",
       "      <td>66.0</td>\n",
       "    </tr>\n",
       "    <tr>\n",
       "      <th>2</th>\n",
       "      <td>11179863</td>\n",
       "      <td>male</td>\n",
       "      <td>69</td>\n",
       "      <td>174.562739</td>\n",
       "      <td>74.458074</td>\n",
       "      <td>-1.266182</td>\n",
       "      <td>88</td>\n",
       "      <td>38.7</td>\n",
       "      <td>26.0</td>\n",
       "    </tr>\n",
       "    <tr>\n",
       "      <th>3</th>\n",
       "      <td>16180408</td>\n",
       "      <td>female</td>\n",
       "      <td>34</td>\n",
       "      <td>174.423704</td>\n",
       "      <td>74.458074</td>\n",
       "      <td>-0.304592</td>\n",
       "      <td>100</td>\n",
       "      <td>40.5</td>\n",
       "      <td>71.0</td>\n",
       "    </tr>\n",
       "    <tr>\n",
       "      <th>4</th>\n",
       "      <td>17771927</td>\n",
       "      <td>female</td>\n",
       "      <td>27</td>\n",
       "      <td>154.000000</td>\n",
       "      <td>76.178569</td>\n",
       "      <td>-0.665188</td>\n",
       "      <td>81</td>\n",
       "      <td>39.8</td>\n",
       "      <td>35.0</td>\n",
       "    </tr>\n",
       "    <tr>\n",
       "      <th>...</th>\n",
       "      <td>...</td>\n",
       "      <td>...</td>\n",
       "      <td>...</td>\n",
       "      <td>...</td>\n",
       "      <td>...</td>\n",
       "      <td>...</td>\n",
       "      <td>...</td>\n",
       "      <td>...</td>\n",
       "      <td>...</td>\n",
       "    </tr>\n",
       "    <tr>\n",
       "      <th>14995</th>\n",
       "      <td>15644082</td>\n",
       "      <td>female</td>\n",
       "      <td>20</td>\n",
       "      <td>193.000000</td>\n",
       "      <td>86.000000</td>\n",
       "      <td>-0.544989</td>\n",
       "      <td>92</td>\n",
       "      <td>40.4</td>\n",
       "      <td>45.0</td>\n",
       "    </tr>\n",
       "    <tr>\n",
       "      <th>14996</th>\n",
       "      <td>17212577</td>\n",
       "      <td>female</td>\n",
       "      <td>27</td>\n",
       "      <td>165.000000</td>\n",
       "      <td>65.000000</td>\n",
       "      <td>-1.145983</td>\n",
       "      <td>85</td>\n",
       "      <td>39.2</td>\n",
       "      <td>23.0</td>\n",
       "    </tr>\n",
       "    <tr>\n",
       "      <th>14997</th>\n",
       "      <td>17271188</td>\n",
       "      <td>female</td>\n",
       "      <td>43</td>\n",
       "      <td>159.000000</td>\n",
       "      <td>58.000000</td>\n",
       "      <td>0.056005</td>\n",
       "      <td>90</td>\n",
       "      <td>40.1</td>\n",
       "      <td>75.0</td>\n",
       "    </tr>\n",
       "    <tr>\n",
       "      <th>14998</th>\n",
       "      <td>18643037</td>\n",
       "      <td>male</td>\n",
       "      <td>78</td>\n",
       "      <td>193.000000</td>\n",
       "      <td>97.000000</td>\n",
       "      <td>-1.626778</td>\n",
       "      <td>84</td>\n",
       "      <td>38.3</td>\n",
       "      <td>11.0</td>\n",
       "    </tr>\n",
       "    <tr>\n",
       "      <th>14999</th>\n",
       "      <td>11751526</td>\n",
       "      <td>male</td>\n",
       "      <td>63</td>\n",
       "      <td>173.000000</td>\n",
       "      <td>79.000000</td>\n",
       "      <td>0.296402</td>\n",
       "      <td>92</td>\n",
       "      <td>40.5</td>\n",
       "      <td>98.0</td>\n",
       "    </tr>\n",
       "  </tbody>\n",
       "</table>\n",
       "<p>15000 rows × 9 columns</p>\n",
       "</div>"
      ],
      "text/plain": [
       "        User_ID  Gender  Age      Height     Weight  Duration  Heart_Rate  \\\n",
       "0      14733363    male   68  174.562739  73.181027  1.618588         105   \n",
       "1      14861698  female   20  174.173175  74.458074 -0.184393          94   \n",
       "2      11179863    male   69  174.562739  74.458074 -1.266182          88   \n",
       "3      16180408  female   34  174.423704  74.458074 -0.304592         100   \n",
       "4      17771927  female   27  154.000000  76.178569 -0.665188          81   \n",
       "...         ...     ...  ...         ...        ...       ...         ...   \n",
       "14995  15644082  female   20  193.000000  86.000000 -0.544989          92   \n",
       "14996  17212577  female   27  165.000000  65.000000 -1.145983          85   \n",
       "14997  17271188  female   43  159.000000  58.000000  0.056005          90   \n",
       "14998  18643037    male   78  193.000000  97.000000 -1.626778          84   \n",
       "14999  11751526    male   63  173.000000  79.000000  0.296402          92   \n",
       "\n",
       "       Body_Temp  Calories  \n",
       "0           40.8     231.0  \n",
       "1           40.3      66.0  \n",
       "2           38.7      26.0  \n",
       "3           40.5      71.0  \n",
       "4           39.8      35.0  \n",
       "...          ...       ...  \n",
       "14995       40.4      45.0  \n",
       "14996       39.2      23.0  \n",
       "14997       40.1      75.0  \n",
       "14998       38.3      11.0  \n",
       "14999       40.5      98.0  \n",
       "\n",
       "[15000 rows x 9 columns]"
      ]
     },
     "execution_count": 131,
     "metadata": {},
     "output_type": "execute_result"
    }
   ],
   "source": [
    "#combining data frames\n",
    "data=pd.concat([exercise,calories['Calories']],axis=1)\n",
    "data"
   ]
  },
  {
   "cell_type": "markdown",
   "id": "3f2c3565-34a5-4de8-a831-82d8ba0b3cf3",
   "metadata": {},
   "source": [
    "<font size=\"5\">Text to data conversion for gender</font>"
   ]
  },
  {
   "cell_type": "markdown",
   "id": "45f860b3-0eae-4b90-b24d-16d426a53e76",
   "metadata": {},
   "source": [
    "Setting Male as 0 and Female as 1"
   ]
  },
  {
   "cell_type": "code",
   "execution_count": 132,
   "id": "f8484a29-93a9-4a64-afe3-71a70d43d787",
   "metadata": {},
   "outputs": [
    {
     "data": {
      "text/plain": [
       "User_ID       0\n",
       "Gender        0\n",
       "Age           0\n",
       "Height        0\n",
       "Weight        0\n",
       "Duration      0\n",
       "Heart_Rate    0\n",
       "Body_Temp     0\n",
       "Calories      0\n",
       "dtype: int64"
      ]
     },
     "execution_count": 132,
     "metadata": {},
     "output_type": "execute_result"
    }
   ],
   "source": [
    "data.isnull().sum()"
   ]
  },
  {
   "cell_type": "code",
   "execution_count": 133,
   "id": "1b200061-dfe7-4be5-b5ac-c700694eb62c",
   "metadata": {},
   "outputs": [],
   "source": [
    "data = data.replace(\"male\",0)\n",
    "data = data.replace(\"female\",1)"
   ]
  },
  {
   "cell_type": "code",
   "execution_count": 134,
   "id": "ad205f80",
   "metadata": {},
   "outputs": [
    {
     "data": {
      "text/plain": [
       "(15000, 9)"
      ]
     },
     "execution_count": 134,
     "metadata": {},
     "output_type": "execute_result"
    }
   ],
   "source": [
    "#shape of the dataset\n",
    "data.shape"
   ]
  },
  {
   "cell_type": "code",
   "execution_count": 135,
   "id": "a2810c64",
   "metadata": {},
   "outputs": [
    {
     "name": "stdout",
     "output_type": "stream",
     "text": [
      "<class 'pandas.core.frame.DataFrame'>\n",
      "RangeIndex: 15000 entries, 0 to 14999\n",
      "Data columns (total 9 columns):\n",
      " #   Column      Non-Null Count  Dtype  \n",
      "---  ------      --------------  -----  \n",
      " 0   User_ID     15000 non-null  int64  \n",
      " 1   Gender      15000 non-null  int64  \n",
      " 2   Age         15000 non-null  int64  \n",
      " 3   Height      15000 non-null  float64\n",
      " 4   Weight      15000 non-null  float64\n",
      " 5   Duration    15000 non-null  float64\n",
      " 6   Heart_Rate  15000 non-null  int64  \n",
      " 7   Body_Temp   15000 non-null  float64\n",
      " 8   Calories    15000 non-null  float64\n",
      "dtypes: float64(5), int64(4)\n",
      "memory usage: 1.0 MB\n"
     ]
    }
   ],
   "source": [
    "#Information about the data\n",
    "data.info()"
   ]
  },
  {
   "cell_type": "code",
   "execution_count": 136,
   "id": "7c832603",
   "metadata": {},
   "outputs": [
    {
     "data": {
      "text/plain": [
       "User_ID       0\n",
       "Gender        0\n",
       "Age           0\n",
       "Height        0\n",
       "Weight        0\n",
       "Duration      0\n",
       "Heart_Rate    0\n",
       "Body_Temp     0\n",
       "Calories      0\n",
       "dtype: int64"
      ]
     },
     "execution_count": 136,
     "metadata": {},
     "output_type": "execute_result"
    }
   ],
   "source": [
    "#missing values\n",
    "data.isnull().sum()"
   ]
  },
  {
   "cell_type": "code",
   "execution_count": 137,
   "id": "06f30382",
   "metadata": {},
   "outputs": [
    {
     "data": {
      "text/plain": [
       "array([[<AxesSubplot:title={'center':'User_ID'}>,\n",
       "        <AxesSubplot:title={'center':'Age'}>,\n",
       "        <AxesSubplot:title={'center':'Height'}>],\n",
       "       [<AxesSubplot:title={'center':'Weight'}>,\n",
       "        <AxesSubplot:title={'center':'Duration'}>,\n",
       "        <AxesSubplot:title={'center':'Heart_Rate'}>],\n",
       "       [<AxesSubplot:title={'center':'Body_Temp'}>, <AxesSubplot:>,\n",
       "        <AxesSubplot:>]], dtype=object)"
      ]
     },
     "execution_count": 137,
     "metadata": {},
     "output_type": "execute_result"
    },
    {
     "data": {
      "image/png": "[encoded data removed]",
      "text/plain": [
       "<Figure size 432x288 with 9 Axes>"
      ]
     },
     "metadata": {},
     "output_type": "display_data"
    }
   ],
   "source": [
    "from matplotlib import pyplot\n",
    "exercise.hist()"
   ]
  },
  {
   "cell_type": "code",
   "execution_count": 138,
   "id": "e95d6b17",
   "metadata": {},
   "outputs": [],
   "source": [
    "#DATA SUMMARIZATION\n",
    "#STATISTICAL METHODS\n"
   ]
  },
  {
   "cell_type": "code",
   "execution_count": 139,
   "id": "6ae95df8",
   "metadata": {},
   "outputs": [
    {
     "data": {
      "text/html": [
       "<div>\n",
       "<style scoped>\n",
       "    .dataframe tbody tr th:only-of-type {\n",
       "        vertical-align: middle;\n",
       "    }\n",
       "\n",
       "    .dataframe tbody tr th {\n",
       "        vertical-align: top;\n",
       "    }\n",
       "\n",
       "    .dataframe thead th {\n",
       "        text-align: right;\n",
       "    }\n",
       "</style>\n",
       "<table border=\"1\" class=\"dataframe\">\n",
       "  <thead>\n",
       "    <tr style=\"text-align: right;\">\n",
       "      <th></th>\n",
       "      <th>User_ID</th>\n",
       "      <th>Gender</th>\n",
       "      <th>Age</th>\n",
       "      <th>Height</th>\n",
       "      <th>Weight</th>\n",
       "      <th>Duration</th>\n",
       "      <th>Heart_Rate</th>\n",
       "      <th>Body_Temp</th>\n",
       "      <th>Calories</th>\n",
       "    </tr>\n",
       "  </thead>\n",
       "  <tbody>\n",
       "    <tr>\n",
       "      <th>count</th>\n",
       "      <td>1.500000e+04</td>\n",
       "      <td>15000.000000</td>\n",
       "      <td>15000.000000</td>\n",
       "      <td>15000.000000</td>\n",
       "      <td>15000.000000</td>\n",
       "      <td>1.500000e+04</td>\n",
       "      <td>15000.000000</td>\n",
       "      <td>15000.000000</td>\n",
       "      <td>15000.000000</td>\n",
       "    </tr>\n",
       "    <tr>\n",
       "      <th>mean</th>\n",
       "      <td>1.497736e+07</td>\n",
       "      <td>0.503533</td>\n",
       "      <td>42.789800</td>\n",
       "      <td>174.418581</td>\n",
       "      <td>74.889723</td>\n",
       "      <td>-4.867218e-17</td>\n",
       "      <td>95.518533</td>\n",
       "      <td>40.025453</td>\n",
       "      <td>89.539533</td>\n",
       "    </tr>\n",
       "    <tr>\n",
       "      <th>std</th>\n",
       "      <td>2.872851e+06</td>\n",
       "      <td>0.500004</td>\n",
       "      <td>16.980264</td>\n",
       "      <td>14.538709</td>\n",
       "      <td>15.231519</td>\n",
       "      <td>1.000033e+00</td>\n",
       "      <td>9.583328</td>\n",
       "      <td>0.779230</td>\n",
       "      <td>62.456978</td>\n",
       "    </tr>\n",
       "    <tr>\n",
       "      <th>min</th>\n",
       "      <td>1.000116e+07</td>\n",
       "      <td>0.000000</td>\n",
       "      <td>20.000000</td>\n",
       "      <td>0.000000</td>\n",
       "      <td>0.000000</td>\n",
       "      <td>-1.746977e+00</td>\n",
       "      <td>67.000000</td>\n",
       "      <td>37.100000</td>\n",
       "      <td>1.000000</td>\n",
       "    </tr>\n",
       "    <tr>\n",
       "      <th>25%</th>\n",
       "      <td>1.247419e+07</td>\n",
       "      <td>0.000000</td>\n",
       "      <td>28.000000</td>\n",
       "      <td>164.000000</td>\n",
       "      <td>63.000000</td>\n",
       "      <td>-9.055854e-01</td>\n",
       "      <td>88.000000</td>\n",
       "      <td>39.600000</td>\n",
       "      <td>35.000000</td>\n",
       "    </tr>\n",
       "    <tr>\n",
       "      <th>50%</th>\n",
       "      <td>1.499728e+07</td>\n",
       "      <td>1.000000</td>\n",
       "      <td>39.000000</td>\n",
       "      <td>175.000000</td>\n",
       "      <td>74.000000</td>\n",
       "      <td>5.600461e-02</td>\n",
       "      <td>96.000000</td>\n",
       "      <td>40.200000</td>\n",
       "      <td>79.000000</td>\n",
       "    </tr>\n",
       "    <tr>\n",
       "      <th>75%</th>\n",
       "      <td>1.744928e+07</td>\n",
       "      <td>1.000000</td>\n",
       "      <td>56.000000</td>\n",
       "      <td>185.000000</td>\n",
       "      <td>87.000000</td>\n",
       "      <td>8.973959e-01</td>\n",
       "      <td>103.000000</td>\n",
       "      <td>40.600000</td>\n",
       "      <td>138.000000</td>\n",
       "    </tr>\n",
       "    <tr>\n",
       "      <th>max</th>\n",
       "      <td>1.999965e+07</td>\n",
       "      <td>1.000000</td>\n",
       "      <td>79.000000</td>\n",
       "      <td>222.000000</td>\n",
       "      <td>132.000000</td>\n",
       "      <td>1.738787e+00</td>\n",
       "      <td>128.000000</td>\n",
       "      <td>41.500000</td>\n",
       "      <td>314.000000</td>\n",
       "    </tr>\n",
       "  </tbody>\n",
       "</table>\n",
       "</div>"
      ],
      "text/plain": [
       "            User_ID        Gender           Age        Height        Weight  \\\n",
       "count  1.500000e+04  15000.000000  15000.000000  15000.000000  15000.000000   \n",
       "mean   1.497736e+07      0.503533     42.789800    174.418581     74.889723   \n",
       "std    2.872851e+06      0.500004     16.980264     14.538709     15.231519   \n",
       "min    1.000116e+07      0.000000     20.000000      0.000000      0.000000   \n",
       "25%    1.247419e+07      0.000000     28.000000    164.000000     63.000000   \n",
       "50%    1.499728e+07      1.000000     39.000000    175.000000     74.000000   \n",
       "75%    1.744928e+07      1.000000     56.000000    185.000000     87.000000   \n",
       "max    1.999965e+07      1.000000     79.000000    222.000000    132.000000   \n",
       "\n",
       "           Duration    Heart_Rate     Body_Temp      Calories  \n",
       "count  1.500000e+04  15000.000000  15000.000000  15000.000000  \n",
       "mean  -4.867218e-17     95.518533     40.025453     89.539533  \n",
       "std    1.000033e+00      9.583328      0.779230     62.456978  \n",
       "min   -1.746977e+00     67.000000     37.100000      1.000000  \n",
       "25%   -9.055854e-01     88.000000     39.600000     35.000000  \n",
       "50%    5.600461e-02     96.000000     40.200000     79.000000  \n",
       "75%    8.973959e-01    103.000000     40.600000    138.000000  \n",
       "max    1.738787e+00    128.000000     41.500000    314.000000  "
      ]
     },
     "execution_count": 139,
     "metadata": {},
     "output_type": "execute_result"
    }
   ],
   "source": [
    "data.describe()"
   ]
  },
  {
   "cell_type": "code",
   "execution_count": null,
   "id": "e7980cfc",
   "metadata": {},
   "outputs": [],
   "source": []
  },
  {
   "cell_type": "code",
   "execution_count": 140,
   "id": "7183b33f",
   "metadata": {},
   "outputs": [],
   "source": [
    "#DATA VISUALIZATION"
   ]
  },
  {
   "cell_type": "code",
   "execution_count": 141,
   "id": "20520b31",
   "metadata": {},
   "outputs": [],
   "source": [
    "sb.set()"
   ]
  },
  {
   "cell_type": "code",
   "execution_count": 142,
   "id": "5a858360",
   "metadata": {},
   "outputs": [],
   "source": [
    "# #gender count using countplot\n",
    "# sb.countplot(data['Gender'])"
   ]
  },
  {
   "cell_type": "code",
   "execution_count": 143,
   "id": "d2512bcd",
   "metadata": {},
   "outputs": [
    {
     "data": {
      "text/plain": [
       "<seaborn.axisgrid.FacetGrid at 0x7f8734561930>"
      ]
     },
     "execution_count": 143,
     "metadata": {},
     "output_type": "execute_result"
    },
    {
     "data": {
      "image/png": "[encoded data removed]",
      "text/plain": [
       "<Figure size 360x360 with 1 Axes>"
      ]
     },
     "metadata": {},
     "output_type": "display_data"
    }
   ],
   "source": [
    "#distribution of age,height,weight column using distplot\n",
    "sb.displot(data['Age'])"
   ]
  },
  {
   "cell_type": "code",
   "execution_count": 144,
   "id": "ab639e2c",
   "metadata": {},
   "outputs": [
    {
     "data": {
      "text/plain": [
       "<seaborn.axisgrid.FacetGrid at 0x7f8736f393c0>"
      ]
     },
     "execution_count": 144,
     "metadata": {},
     "output_type": "execute_result"
    },
    {
     "data": {
      "image/png": "[encoded data removed]",
      "text/plain": [
       "<Figure size 360x360 with 1 Axes>"
      ]
     },
     "metadata": {},
     "output_type": "display_data"
    }
   ],
   "source": [
    "sb.displot(data['Height'])"
   ]
  },
  {
   "cell_type": "code",
   "execution_count": 145,
   "id": "dc49a25d",
   "metadata": {},
   "outputs": [
    {
     "data": {
      "text/plain": [
       "<seaborn.axisgrid.FacetGrid at 0x7f8737081330>"
      ]
     },
     "execution_count": 145,
     "metadata": {},
     "output_type": "execute_result"
    },
    {
     "data": {
      "image/png": "[encoded data removed]",
      "text/plain": [
       "<Figure size 360x360 with 1 Axes>"
      ]
     },
     "metadata": {},
     "output_type": "display_data"
    }
   ],
   "source": [
    "sb.displot(data['Weight'])"
   ]
  },
  {
   "cell_type": "code",
   "execution_count": 146,
   "id": "05de0e1b",
   "metadata": {},
   "outputs": [
    {
     "data": {
      "text/plain": [
       "array([[<AxesSubplot:title={'center':'User_ID'}>,\n",
       "        <AxesSubplot:title={'center':'Gender'}>,\n",
       "        <AxesSubplot:title={'center':'Age'}>],\n",
       "       [<AxesSubplot:title={'center':'Height'}>,\n",
       "        <AxesSubplot:title={'center':'Weight'}>,\n",
       "        <AxesSubplot:title={'center':'Duration'}>],\n",
       "       [<AxesSubplot:title={'center':'Heart_Rate'}>,\n",
       "        <AxesSubplot:title={'center':'Body_Temp'}>,\n",
       "        <AxesSubplot:title={'center':'Calories'}>]], dtype=object)"
      ]
     },
     "execution_count": 146,
     "metadata": {},
     "output_type": "execute_result"
    },
    {
     "data": {
      "image/png": "[encoded data removed]",
      "text/plain": [
       "<Figure size 432x288 with 9 Axes>"
      ]
     },
     "metadata": {},
     "output_type": "display_data"
    }
   ],
   "source": [
    "#Histogram for all attributes\n",
    "data.hist()"
   ]
  },
  {
   "cell_type": "code",
   "execution_count": 147,
   "id": "7ca22d22",
   "metadata": {},
   "outputs": [
    {
     "data": {
      "text/plain": [
       "User_ID          AxesSubplot(0.125,0.657941;0.227941x0.222059)\n",
       "Gender        AxesSubplot(0.398529,0.657941;0.227941x0.222059)\n",
       "Age           AxesSubplot(0.672059,0.657941;0.227941x0.222059)\n",
       "Height           AxesSubplot(0.125,0.391471;0.227941x0.222059)\n",
       "Weight        AxesSubplot(0.398529,0.391471;0.227941x0.222059)\n",
       "Duration      AxesSubplot(0.672059,0.391471;0.227941x0.222059)\n",
       "Heart_Rate          AxesSubplot(0.125,0.125;0.227941x0.222059)\n",
       "Body_Temp        AxesSubplot(0.398529,0.125;0.227941x0.222059)\n",
       "Calories         AxesSubplot(0.672059,0.125;0.227941x0.222059)\n",
       "dtype: object"
      ]
     },
     "execution_count": 147,
     "metadata": {},
     "output_type": "execute_result"
    },
    {
     "data": {
      "image/png": "[encoded data removed]",
      "text/plain": [
       "<Figure size 432x288 with 9 Axes>"
      ]
     },
     "metadata": {},
     "output_type": "display_data"
    }
   ],
   "source": [
    "#box plot\n",
    "data.plot(kind='box', subplots=True, layout=(3,3), sharex=False,sharey=False)"
   ]
  },
  {
   "cell_type": "code",
   "execution_count": 148,
   "id": "4e851a6d",
   "metadata": {},
   "outputs": [
    {
     "data": {
      "text/plain": [
       "array([[<AxesSubplot:ylabel='Density'>, <AxesSubplot:ylabel='Density'>,\n",
       "        <AxesSubplot:ylabel='Density'>],\n",
       "       [<AxesSubplot:ylabel='Density'>, <AxesSubplot:ylabel='Density'>,\n",
       "        <AxesSubplot:ylabel='Density'>],\n",
       "       [<AxesSubplot:ylabel='Density'>, <AxesSubplot:ylabel='Density'>,\n",
       "        <AxesSubplot:ylabel='Density'>]], dtype=object)"
      ]
     },
     "execution_count": 148,
     "metadata": {},
     "output_type": "execute_result"
    },
    {
     "data": {
      "image/png": "[encoded data removed]",
      "text/plain": [
       "<Figure size 432x288 with 9 Axes>"
      ]
     },
     "metadata": {},
     "output_type": "display_data"
    }
   ],
   "source": [
    "#density plot\n",
    "data.plot(kind='density', subplots=True, layout=(3,3), sharex=False)"
   ]
  },
  {
   "cell_type": "code",
   "execution_count": 149,
   "id": "5b3e249d",
   "metadata": {},
   "outputs": [
    {
     "data": {
      "text/plain": [
       "array([[<AxesSubplot:xlabel='User_ID', ylabel='User_ID'>,\n",
       "        <AxesSubplot:xlabel='Gender', ylabel='User_ID'>,\n",
       "        <AxesSubplot:xlabel='Age', ylabel='User_ID'>,\n",
       "        <AxesSubplot:xlabel='Height', ylabel='User_ID'>,\n",
       "        <AxesSubplot:xlabel='Weight', ylabel='User_ID'>,\n",
       "        <AxesSubplot:xlabel='Duration', ylabel='User_ID'>,\n",
       "        <AxesSubplot:xlabel='Heart_Rate', ylabel='User_ID'>,\n",
       "        <AxesSubplot:xlabel='Body_Temp', ylabel='User_ID'>,\n",
       "        <AxesSubplot:xlabel='Calories', ylabel='User_ID'>],\n",
       "       [<AxesSubplot:xlabel='User_ID', ylabel='Gender'>,\n",
       "        <AxesSubplot:xlabel='Gender', ylabel='Gender'>,\n",
       "        <AxesSubplot:xlabel='Age', ylabel='Gender'>,\n",
       "        <AxesSubplot:xlabel='Height', ylabel='Gender'>,\n",
       "        <AxesSubplot:xlabel='Weight', ylabel='Gender'>,\n",
       "        <AxesSubplot:xlabel='Duration', ylabel='Gender'>,\n",
       "        <AxesSubplot:xlabel='Heart_Rate', ylabel='Gender'>,\n",
       "        <AxesSubplot:xlabel='Body_Temp', ylabel='Gender'>,\n",
       "        <AxesSubplot:xlabel='Calories', ylabel='Gender'>],\n",
       "       [<AxesSubplot:xlabel='User_ID', ylabel='Age'>,\n",
       "        <AxesSubplot:xlabel='Gender', ylabel='Age'>,\n",
       "        <AxesSubplot:xlabel='Age', ylabel='Age'>,\n",
       "        <AxesSubplot:xlabel='Height', ylabel='Age'>,\n",
       "        <AxesSubplot:xlabel='Weight', ylabel='Age'>,\n",
       "        <AxesSubplot:xlabel='Duration', ylabel='Age'>,\n",
       "        <AxesSubplot:xlabel='Heart_Rate', ylabel='Age'>,\n",
       "        <AxesSubplot:xlabel='Body_Temp', ylabel='Age'>,\n",
       "        <AxesSubplot:xlabel='Calories', ylabel='Age'>],\n",
       "       [<AxesSubplot:xlabel='User_ID', ylabel='Height'>,\n",
       "        <AxesSubplot:xlabel='Gender', ylabel='Height'>,\n",
       "        <AxesSubplot:xlabel='Age', ylabel='Height'>,\n",
       "        <AxesSubplot:xlabel='Height', ylabel='Height'>,\n",
       "        <AxesSubplot:xlabel='Weight', ylabel='Height'>,\n",
       "        <AxesSubplot:xlabel='Duration', ylabel='Height'>,\n",
       "        <AxesSubplot:xlabel='Heart_Rate', ylabel='Height'>,\n",
       "        <AxesSubplot:xlabel='Body_Temp', ylabel='Height'>,\n",
       "        <AxesSubplot:xlabel='Calories', ylabel='Height'>],\n",
       "       [<AxesSubplot:xlabel='User_ID', ylabel='Weight'>,\n",
       "        <AxesSubplot:xlabel='Gender', ylabel='Weight'>,\n",
       "        <AxesSubplot:xlabel='Age', ylabel='Weight'>,\n",
       "        <AxesSubplot:xlabel='Height', ylabel='Weight'>,\n",
       "        <AxesSubplot:xlabel='Weight', ylabel='Weight'>,\n",
       "        <AxesSubplot:xlabel='Duration', ylabel='Weight'>,\n",
       "        <AxesSubplot:xlabel='Heart_Rate', ylabel='Weight'>,\n",
       "        <AxesSubplot:xlabel='Body_Temp', ylabel='Weight'>,\n",
       "        <AxesSubplot:xlabel='Calories', ylabel='Weight'>],\n",
       "       [<AxesSubplot:xlabel='User_ID', ylabel='Duration'>,\n",
       "        <AxesSubplot:xlabel='Gender', ylabel='Duration'>,\n",
       "        <AxesSubplot:xlabel='Age', ylabel='Duration'>,\n",
       "        <AxesSubplot:xlabel='Height', ylabel='Duration'>,\n",
       "        <AxesSubplot:xlabel='Weight', ylabel='Duration'>,\n",
       "        <AxesSubplot:xlabel='Duration', ylabel='Duration'>,\n",
       "        <AxesSubplot:xlabel='Heart_Rate', ylabel='Duration'>,\n",
       "        <AxesSubplot:xlabel='Body_Temp', ylabel='Duration'>,\n",
       "        <AxesSubplot:xlabel='Calories', ylabel='Duration'>],\n",
       "       [<AxesSubplot:xlabel='User_ID', ylabel='Heart_Rate'>,\n",
       "        <AxesSubplot:xlabel='Gender', ylabel='Heart_Rate'>,\n",
       "        <AxesSubplot:xlabel='Age', ylabel='Heart_Rate'>,\n",
       "        <AxesSubplot:xlabel='Height', ylabel='Heart_Rate'>,\n",
       "        <AxesSubplot:xlabel='Weight', ylabel='Heart_Rate'>,\n",
       "        <AxesSubplot:xlabel='Duration', ylabel='Heart_Rate'>,\n",
       "        <AxesSubplot:xlabel='Heart_Rate', ylabel='Heart_Rate'>,\n",
       "        <AxesSubplot:xlabel='Body_Temp', ylabel='Heart_Rate'>,\n",
       "        <AxesSubplot:xlabel='Calories', ylabel='Heart_Rate'>],\n",
       "       [<AxesSubplot:xlabel='User_ID', ylabel='Body_Temp'>,\n",
       "        <AxesSubplot:xlabel='Gender', ylabel='Body_Temp'>,\n",
       "        <AxesSubplot:xlabel='Age', ylabel='Body_Temp'>,\n",
       "        <AxesSubplot:xlabel='Height', ylabel='Body_Temp'>,\n",
       "        <AxesSubplot:xlabel='Weight', ylabel='Body_Temp'>,\n",
       "        <AxesSubplot:xlabel='Duration', ylabel='Body_Temp'>,\n",
       "        <AxesSubplot:xlabel='Heart_Rate', ylabel='Body_Temp'>,\n",
       "        <AxesSubplot:xlabel='Body_Temp', ylabel='Body_Temp'>,\n",
       "        <AxesSubplot:xlabel='Calories', ylabel='Body_Temp'>],\n",
       "       [<AxesSubplot:xlabel='User_ID', ylabel='Calories'>,\n",
       "        <AxesSubplot:xlabel='Gender', ylabel='Calories'>,\n",
       "        <AxesSubplot:xlabel='Age', ylabel='Calories'>,\n",
       "        <AxesSubplot:xlabel='Height', ylabel='Calories'>,\n",
       "        <AxesSubplot:xlabel='Weight', ylabel='Calories'>,\n",
       "        <AxesSubplot:xlabel='Duration', ylabel='Calories'>,\n",
       "        <AxesSubplot:xlabel='Heart_Rate', ylabel='Calories'>,\n",
       "        <AxesSubplot:xlabel='Body_Temp', ylabel='Calories'>,\n",
       "        <AxesSubplot:xlabel='Calories', ylabel='Calories'>]], dtype=object)"
      ]
     },
     "execution_count": 149,
     "metadata": {},
     "output_type": "execute_result"
    },
    {
     "data": {
      "image/png": "[encoded data removed]",
      "text/plain": [
       "<Figure size 432x288 with 81 Axes>"
      ]
     },
     "metadata": {},
     "output_type": "display_data"
    }
   ],
   "source": [
    "from pandas.plotting import scatter_matrix\n",
    "scatter_matrix(data)"
   ]
  },
  {
   "cell_type": "code",
   "execution_count": 150,
   "id": "75ef34e0",
   "metadata": {},
   "outputs": [
    {
     "data": {
      "text/plain": [
       "array([[<AxesSubplot:xlabel='Age', ylabel='Age'>,\n",
       "        <AxesSubplot:xlabel='Calories', ylabel='Age'>],\n",
       "       [<AxesSubplot:xlabel='Age', ylabel='Calories'>,\n",
       "        <AxesSubplot:xlabel='Calories', ylabel='Calories'>]], dtype=object)"
      ]
     },
     "execution_count": 150,
     "metadata": {},
     "output_type": "execute_result"
    },
    {
     "data": {
      "image/png": "[encoded data removed]",
      "text/plain": [
       "<Figure size 432x288 with 4 Axes>"
      ]
     },
     "metadata": {},
     "output_type": "display_data"
    }
   ],
   "source": [
    "scatter1_matrix(data[['Age','Calories']])"
   ]
  },
  {
   "cell_type": "markdown",
   "id": "3791c5b4-f369-4b24-9f66-332224780a92",
   "metadata": {},
   "source": [
    "<font size=\"5\">Exporting cleaned csv</font>"
   ]
  },
  {
   "cell_type": "code",
   "execution_count": null,
   "id": "c0293a5f-6276-48df-92e6-5fac8076ae72",
   "metadata": {},
   "outputs": [],
   "source": [
    "pd.to_c"
   ]
  }
 ],
 "metadata": {
  "kernelspec": {
   "display_name": "Python 3 (ipykernel)",
   "language": "python",
   "name": "python3"
  },
  "language_info": {
   "codemirror_mode": {
    "name": "ipython",
    "version": 3
   },
   "file_extension": ".py",
   "mimetype": "text/x-python",
   "name": "python",
   "nbconvert_exporter": "python",
   "pygments_lexer": "ipython3",
   "version": "3.10.6"
  }
 },
 "nbformat": 4,
 "nbformat_minor": 5
}
