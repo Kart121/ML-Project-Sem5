{
 "cells": [
  {
   "cell_type": "code",
   "execution_count": null,
   "id": "30f4e9d8",
   "metadata": {},
   "outputs": [],
   "source": [
    "import numpy as np\n",
    "import pandas as pd\n",
    "import matplotlib as plt\n",
    "import seaborn as sb\n",
    "import warnings\n",
    "warnings.filterwarnings('ignore')\n",
    "path1='Dataset/exercise.csv'\n",
    "exercise=pd.read_csv(path1)\n",
    "exercise"
   ]
  },
  {
   "cell_type": "code",
   "execution_count": null,
   "id": "a5e3a5f5",
   "metadata": {},
   "outputs": [],
   "source": [
    "path2='Dataset/calories.csv'\n",
    "calories=pd.read_csv(path2)\n",
    "calories"
   ]
  },
  {
   "cell_type": "markdown",
   "id": "af86822a-9c42-476f-862d-9871b6f6ae60",
   "metadata": {},
   "source": [
    "<font size=\"5\">Data Preprocessing</font>"
   ]
  },
  {
   "cell_type": "markdown",
   "id": "343f62f3-cd7f-4e10-82a4-88cb7b672891",
   "metadata": {},
   "source": [
    "checking is null values exists or not"
   ]
  },
  {
   "cell_type": "code",
   "execution_count": null,
   "id": "b4c2c66d-25a9-48da-a5e0-776803723ba6",
   "metadata": {},
   "outputs": [],
   "source": [
    "exercise.isnull().sum()"
   ]
  },
  {
   "cell_type": "markdown",
   "id": "90e220df-6a12-41c0-a381-72732c8f08a0",
   "metadata": {},
   "source": [
    "\n",
    "<font size=2>from this it is understood that the attributes that have null values are Height , Weight , Duration respectively</font>\n"
   ]
  },
  {
   "cell_type": "markdown",
   "id": "5bd54112-6bd0-4830-871e-c0f1ba7e88db",
   "metadata": {},
   "source": [
    "<font size=\"5\">Filling Missing values for weight using averaging in an age interval</font>"
   ]
  },
  {
   "cell_type": "code",
   "execution_count": null,
   "id": "3c4f8cd9-4ff3-4754-a1e2-ac6cda294d03",
   "metadata": {},
   "outputs": [],
   "source": [
    "import statistics\n",
    "NullWeight = exercise[exercise[\"Weight\"].isnull()].replace(np.nan , 0) # storing the data for null weights and setting the nan values as zero \n",
    "print(\"Before : \\n \",NullWeight) # shows the result\n",
    "exercise[\"Weight\"] = exercise[\"Weight\"].replace(np.nan , 0)  # storing the data for null weights and setting the nan values as zero \n",
    "i = 0\n",
    "for age in NullWeight['Age']: # accessing each age \n",
    "    age = age // 10 # setting up the range for age\n",
    "    age = age * 10\n",
    "    ageRange = exercise[(exercise[\"Age\"] >= age) & (exercise[\"Age\"] <= age + 10)]  # collecting age interval for a given age\n",
    "    ageRangeAverage = np.nanmean(ageRange[\"Weight\"]) # calculating the mean of the particular interval\n",
    "    exercise[\"Weight\"].iloc[i] = ageRangeAverage # updating the mean inplace for the missing values in the main dataset\n",
    "    NullWeight[\"Weight\"].iloc[i] = ageRangeAverage\n",
    "    i += 1\n",
    "print(\"\\nAfter:\\n\",NullWeight) # displaying the updated result for the range of null dataset"
   ]
  },
  {
   "cell_type": "markdown",
   "id": "8a69cd07-268f-46b4-9d05-6556ad9c5e33",
   "metadata": {},
   "source": [
    "<font size=\"5\">Filling Missing values for Height and Weight  using averaging in an age interval</font>"
   ]
  },
  {
   "cell_type": "code",
   "execution_count": null,
   "id": "07dee9c1-8367-4a4c-8f5e-79994e3dd203",
   "metadata": {},
   "outputs": [],
   "source": [
    "NullHeight = exercise[exercise[\"Height\"].isnull()].replace(np.nan , 0) # storing the data for null weights and setting the nan values as zero \n",
    "exercise[\"Height\"] = exercise[\"Height\"].replace(np.nan , 0)  # storing the data for null weights and setting the nan values as zero \n",
    "i = 0\n",
    "for age in NullHeight['Age']: # accessing each age \n",
    "    age = age // 10 # setting up the range for age\n",
    "    age = age * 10\n",
    "    ageRange = exercise[(exercise[\"Age\"] >= age) & (exercise[\"Age\"] <= age + 10)]  # collecting age interval for a given age\n",
    "    ageRangeAverage = np.nanmean(ageRange[\"Height\"]) # calculating the mean of the particular interval\n",
    "    exercise[\"Height\"].iloc[i] = ageRangeAverage # updating the mean inplace for the missing values in the main dataset\n",
    "    NullWeight[\"Height\"].iloc[i] = ageRangeAverage\n",
    "    i += 1\n",
    "print(\"\\nAfter:\\n\",NullWeight) # displaying the updated result for the range of null dataset\n",
    "\n",
    "NullDuration = exercise[exercise[\"Duration\"].isnull()].replace(np.nan , 0)\n",
    "print(NullDuration)\n",
    "print(\"Update Null Duration\")\n",
    "i = 0\n",
    "for age in NullDuration['Age']: # accessing each age \n",
    "    age = age // 10 # setting up the range for age\n",
    "    age = age * 10\n",
    "    ageRange = exercise[(exercise[\"Age\"] >= age) & (exercise[\"Age\"] <= age + 10)]  # collecting age interval for a given age\n",
    "    ageRangeAverage = np.nanmean(ageRange[\"Duration\"]) # calculating the mean of the particular interval\n",
    "    exercise[\"Duration\"].iloc[i] = ageRangeAverage # updating the mean inplace for the missing values in the main dataset\n",
    "    NullDuration[\"Duration\"].iloc[i] = ageRangeAverage\n",
    "    i += 1\n",
    "    \n",
    "i = 0\n",
    "for age in NullDuration['Age']: # accessing each age \n",
    "    age = age // 10 # setting up the range for age\n",
    "    age = age * 10\n",
    "    ageRange = exercise[(exercise[\"Age\"] >= age) & (exercise[\"Age\"] <= age + 10)]  # collecting age interval for a given age\n",
    "    ageRangeAverage = np.nanmean(ageRange[\"Duration\"]) # calculating the mean of the particular interval\n",
    "    exercise[\"Duration\"].iloc[i] = ageRangeAverage # updating the mean inplace for the missing values in the main dataset\n",
    "    NullDuration[\"Duration\"].iloc[i] = ageRangeAverage\n",
    "    i += 1\n",
    "\n",
    "NullDuration = exercise[exercise[\"Duration\"].isnull()].replace(np.nan , 0)  \n",
    "print(NullDuration)"
   ]
  },
  {
   "cell_type": "markdown",
   "id": "d91e8575-5cdd-4fe2-97d7-91ba42e7721a",
   "metadata": {},
   "source": [
    "<font size=\"5\">Normalization of data set</font>"
   ]
  },
  {
   "cell_type": "code",
   "execution_count": null,
   "id": "afb66fc3-a611-4083-95cf-12631747e8f2",
   "metadata": {},
   "outputs": [],
   "source": [
    "from sklearn.preprocessing import MinMaxScaler\n",
    "print (\"Before Normalization : \\n\")\n",
    "exercise.head()"
   ]
  },
  {
   "cell_type": "code",
   "execution_count": null,
   "id": "a897b407-ae2a-4da0-a380-8f00b2a210b6",
   "metadata": {},
   "outputs": [],
   "source": [
    "norm = MinMaxScaler()\n",
    "data = exercise\n",
    "data[\"Duration\"] = norm.fit_transform(data[\"Duration\"].values.reshape(-1,1))\n",
    "print (\"After Normalisation : \\n\")\n",
    "data.head()\n",
    "data.plot(kind='bar')"
   ]
  },
  {
   "cell_type": "markdown",
   "id": "44ccd087-d68a-4f34-918d-ac47e1be6abc",
   "metadata": {},
   "source": [
    "<font size=\"5\">Standardization of data set</font>"
   ]
  },
  {
   "cell_type": "code",
   "execution_count": null,
   "id": "d840ea72-ee18-4b61-825d-bacace15fa06",
   "metadata": {},
   "outputs": [],
   "source": [
    "from sklearn.preprocessing import StandardScaler \n",
    "print (\"Before Standardisation : \\n\")\n",
    "exercise.tail()"
   ]
  },
  {
   "cell_type": "code",
   "execution_count": null,
   "id": "f417a77f-028a-4364-adb0-2914d51deca3",
   "metadata": {},
   "outputs": [],
   "source": [
    "scalar = StandardScaler(copy=True, with_mean=True, with_std=True)\n",
    "data = exercise\n",
    "data[\"Duration\"] = scalar.fit_transform(data[\"Duration\"].values.reshape(-1,1))\n",
    "print (\"After Standardisation : \\n\")\n",
    "data.head()"
   ]
  },
  {
   "cell_type": "code",
   "execution_count": null,
   "id": "87366700",
   "metadata": {},
   "outputs": [],
   "source": [
    "#combining data frames\n",
    "data=pd.concat([exercise,calories['Calories']],axis=1)\n",
    "data"
   ]
  },
  {
   "cell_type": "code",
   "execution_count": null,
   "id": "ad205f80",
   "metadata": {},
   "outputs": [],
   "source": [
    "#shape of the dataset\n",
    "data.shape"
   ]
  },
  {
   "cell_type": "code",
   "execution_count": null,
   "id": "a2810c64",
   "metadata": {},
   "outputs": [],
   "source": [
    "#Information about the data\n",
    "data.info()"
   ]
  },
  {
   "cell_type": "code",
   "execution_count": null,
   "id": "7c832603",
   "metadata": {},
   "outputs": [],
   "source": [
    "#missing values\n",
    "data.isnull().sum()"
   ]
  },
  {
   "cell_type": "code",
   "execution_count": null,
   "id": "06f30382",
   "metadata": {},
   "outputs": [],
   "source": [
    "from matplotlib import pyplot\n",
    "exercise.hist()"
   ]
  },
  {
   "cell_type": "code",
   "execution_count": null,
   "id": "e95d6b17",
   "metadata": {},
   "outputs": [],
   "source": [
    "#DATA SUMMARIZATION\n",
    "#STATISTICAL METHODS\n"
   ]
  },
  {
   "cell_type": "code",
   "execution_count": null,
   "id": "6ae95df8",
   "metadata": {},
   "outputs": [],
   "source": [
    "data.describe()"
   ]
  },
  {
   "cell_type": "code",
   "execution_count": null,
   "id": "e7980cfc",
   "metadata": {},
   "outputs": [],
   "source": []
  },
  {
   "cell_type": "code",
   "execution_count": null,
   "id": "7183b33f",
   "metadata": {},
   "outputs": [],
   "source": [
    "#DATA VISUALIZATION"
   ]
  },
  {
   "cell_type": "code",
   "execution_count": null,
   "id": "20520b31",
   "metadata": {},
   "outputs": [],
   "source": [
    "sb.set()"
   ]
  },
  {
   "cell_type": "code",
   "execution_count": null,
   "id": "5a858360",
   "metadata": {},
   "outputs": [],
   "source": [
    "# #gender count using countplot\n",
    "# sb.countplot(data['Gender'])"
   ]
  },
  {
   "cell_type": "code",
   "execution_count": null,
   "id": "d2512bcd",
   "metadata": {},
   "outputs": [],
   "source": [
    "#distribution of age,height,weight column using distplot\n",
    "sb.displot(data['Age'])"
   ]
  },
  {
   "cell_type": "code",
   "execution_count": null,
   "id": "ab639e2c",
   "metadata": {},
   "outputs": [],
   "source": [
    "sb.displot(data['Height'])"
   ]
  },
  {
   "cell_type": "code",
   "execution_count": null,
   "id": "dc49a25d",
   "metadata": {},
   "outputs": [],
   "source": [
    "sb.displot(data['Weight'])"
   ]
  },
  {
   "cell_type": "code",
   "execution_count": null,
   "id": "05de0e1b",
   "metadata": {},
   "outputs": [],
   "source": [
    "#Histogram for all attributes\n",
    "data.hist()"
   ]
  },
  {
   "cell_type": "code",
   "execution_count": null,
   "id": "7ca22d22",
   "metadata": {},
   "outputs": [],
   "source": [
    "#box plot\n",
    "data.plot(kind='box', subplots=True, layout=(3,3), sharex=False,sharey=False)"
   ]
  },
  {
   "cell_type": "code",
   "execution_count": null,
   "id": "4e851a6d",
   "metadata": {},
   "outputs": [],
   "source": [
    "#density plot\n",
    "data.plot(kind='density', subplots=True, layout=(3,3), sharex=False)"
   ]
  },
  {
   "cell_type": "code",
   "execution_count": null,
   "id": "5b3e249d",
   "metadata": {},
   "outputs": [],
   "source": [
    "from pandas.plotting import scatter_matrix\n",
    "scatter_matrix(data)"
   ]
  },
  {
   "cell_type": "code",
   "execution_count": null,
   "id": "75ef34e0",
   "metadata": {},
   "outputs": [],
   "source": [
    "scatter_matrix(data[['Age','Calories']])"
   ]
  }
 ],
 "metadata": {
  "kernelspec": {
   "display_name": "Python 3 (ipykernel)",
   "language": "python",
   "name": "python3"
  },
  "language_info": {
   "codemirror_mode": {
    "name": "ipython",
    "version": 3
   },
   "file_extension": ".py",
   "mimetype": "text/x-python",
   "name": "python",
   "nbconvert_exporter": "python",
   "pygments_lexer": "ipython3",
   "version": "3.10.6"
  }
 },
 "nbformat": 4,
 "nbformat_minor": 5
}
